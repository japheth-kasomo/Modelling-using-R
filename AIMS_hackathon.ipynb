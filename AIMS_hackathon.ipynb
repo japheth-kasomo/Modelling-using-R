{
  "nbformat": 4,
  "nbformat_minor": 0,
  "metadata": {
    "colab": {
      "name": "AIMS_hackathon.ipynb",
      "provenance": [],
      "collapsed_sections": [],
      "include_colab_link": true
    },
    "kernelspec": {
      "name": "python3",
      "display_name": "Python 3"
    }
  },
  "cells": [
    {
      "cell_type": "markdown",
      "metadata": {
        "id": "view-in-github",
        "colab_type": "text"
      },
      "source": [
        "<a href=\"https://colab.research.google.com/github/japheth-kasomo/Modelling-using-R/blob/main/AIMS_hackathon.ipynb\" target=\"_parent\"><img src=\"https://colab.research.google.com/assets/colab-badge.svg\" alt=\"Open In Colab\"/></a>"
      ]
    },
    {
      "cell_type": "code",
      "metadata": {
        "colab": {
          "base_uri": "https://localhost:8080/"
        },
        "id": "Em05-FriSwjx",
        "outputId": "b500ff96-b998-43dc-99b7-e4436683e198"
      },
      "source": [
        "!pip -qq install catboost"
      ],
      "execution_count": 2,
      "outputs": [
        {
          "output_type": "stream",
          "text": [
            "\u001b[K     |████████████████████████████████| 65.8MB 65kB/s \n",
            "\u001b[?25h"
          ],
          "name": "stdout"
        }
      ]
    },
    {
      "cell_type": "code",
      "metadata": {
        "id": "Q6uX-sLySj_-"
      },
      "source": [
        "import pandas as pd\r\n",
        "import numpy as np\r\n",
        "import matplotlib.pyplot as plt\r\n",
        "import seaborn as sns\r\n",
        "from sklearn.model_selection import train_test_split, KFold, GroupKFold\r\n",
        "from sklearn.preprocessing import LabelEncoder\r\n",
        "from sklearn.metrics import mean_squared_error\r\n",
        "from tqdm import tqdm_notebook\r\n",
        "from sklearn.utils import shuffle\r\n",
        "from lightgbm import LGBMRegressor\r\n",
        "from catboost import CatBoostRegressor\r\n",
        "%matplotlib inline\r\n",
        "import warnings\r\n",
        "warnings.filterwarnings('ignore')"
      ],
      "execution_count": 3,
      "outputs": []
    },
    {
      "cell_type": "code",
      "metadata": {
        "colab": {
          "base_uri": "https://localhost:8080/"
        },
        "id": "NzkwyWPDuhOX",
        "outputId": "6c08dc59-5549-4fd6-e85a-4d42d1dfbe8e"
      },
      "source": [
        "from google.colab import drive\r\n",
        "drive.mount('/content/drive')"
      ],
      "execution_count": 5,
      "outputs": [
        {
          "output_type": "stream",
          "text": [
            "Mounted at /content/drive\n"
          ],
          "name": "stdout"
        }
      ]
    },
    {
      "cell_type": "code",
      "metadata": {
        "colab": {
          "base_uri": "https://localhost:8080/"
        },
        "id": "SjTNZusHuwE8",
        "outputId": "db2cbac2-062e-4a51-bf9f-c83a944f0fa2"
      },
      "source": [
        "%cd \"/content/drive/MyDrive/Colab Notebooks/dataset\""
      ],
      "execution_count": 6,
      "outputs": [
        {
          "output_type": "stream",
          "text": [
            "/content/drive/MyDrive/Colab Notebooks/dataset\n"
          ],
          "name": "stdout"
        }
      ]
    },
    {
      "cell_type": "code",
      "metadata": {
        "id": "yp82E9oGSVtj"
      },
      "source": [
        "train = pd.read_csv('/content/drive/MyDrive/Colab Notebooks/hakathon_two/Train.csv')\r\n",
        "test = pd.read_csv('/content/drive/MyDrive/Colab Notebooks/hakathon_two/Test.csv')\r\n",
        "sample = pd.read_csv('/content/drive/MyDrive/Colab Notebooks/hakathon_two/SampleSubmission.csv')"
      ],
      "execution_count": 7,
      "outputs": []
    },
    {
      "cell_type": "code",
      "metadata": {
        "colab": {
          "base_uri": "https://localhost:8080/"
        },
        "id": "kJs82BhJSVpT",
        "outputId": "8106b4f3-dc6c-4ca7-b0c6-a9ef4fe5d3ff"
      },
      "source": [
        "train.shape, test.shape, sample.shape"
      ],
      "execution_count": 8,
      "outputs": [
        {
          "output_type": "execute_result",
          "data": {
            "text/plain": [
              "((21454, 19), (7194, 18), (7194, 2))"
            ]
          },
          "metadata": {
            "tags": []
          },
          "execution_count": 8
        }
      ]
    },
    {
      "cell_type": "code",
      "metadata": {
        "colab": {
          "base_uri": "https://localhost:8080/",
          "height": 224
        },
        "id": "Dajh3SquTrsL",
        "outputId": "802a3ba8-bf46-4724-f04e-bee97842faa7"
      },
      "source": [
        "train.head()"
      ],
      "execution_count": 9,
      "outputs": [
        {
          "output_type": "execute_result",
          "data": {
            "text/html": [
              "<div>\n",
              "<style scoped>\n",
              "    .dataframe tbody tr th:only-of-type {\n",
              "        vertical-align: middle;\n",
              "    }\n",
              "\n",
              "    .dataframe tbody tr th {\n",
              "        vertical-align: top;\n",
              "    }\n",
              "\n",
              "    .dataframe thead th {\n",
              "        text-align: right;\n",
              "    }\n",
              "</style>\n",
              "<table border=\"1\" class=\"dataframe\">\n",
              "  <thead>\n",
              "    <tr style=\"text-align: right;\">\n",
              "      <th></th>\n",
              "      <th>ID</th>\n",
              "      <th>country</th>\n",
              "      <th>year</th>\n",
              "      <th>urban_or_rural</th>\n",
              "      <th>ghsl_water_surface</th>\n",
              "      <th>ghsl_built_pre_1975</th>\n",
              "      <th>ghsl_built_1975_to_1990</th>\n",
              "      <th>ghsl_built_1990_to_2000</th>\n",
              "      <th>ghsl_built_2000_to_2014</th>\n",
              "      <th>ghsl_not_built_up</th>\n",
              "      <th>ghsl_pop_density</th>\n",
              "      <th>landcover_crops_fraction</th>\n",
              "      <th>landcover_urban_fraction</th>\n",
              "      <th>landcover_water_permanent_10km_fraction</th>\n",
              "      <th>landcover_water_seasonal_10km_fraction</th>\n",
              "      <th>nighttime_lights</th>\n",
              "      <th>dist_to_capital</th>\n",
              "      <th>dist_to_shoreline</th>\n",
              "      <th>Target</th>\n",
              "    </tr>\n",
              "  </thead>\n",
              "  <tbody>\n",
              "    <tr>\n",
              "      <th>0</th>\n",
              "      <td>ID_AAIethGy</td>\n",
              "      <td>Ethiopia</td>\n",
              "      <td>2016</td>\n",
              "      <td>R</td>\n",
              "      <td>0.0</td>\n",
              "      <td>0.000000</td>\n",
              "      <td>0.000000</td>\n",
              "      <td>0.000055</td>\n",
              "      <td>0.000536</td>\n",
              "      <td>0.999408</td>\n",
              "      <td>12.146134</td>\n",
              "      <td>25.489659</td>\n",
              "      <td>0.879484</td>\n",
              "      <td>0.000000</td>\n",
              "      <td>0.000000</td>\n",
              "      <td>0.000000</td>\n",
              "      <td>278.788451</td>\n",
              "      <td>769.338378</td>\n",
              "      <td>0.132783</td>\n",
              "    </tr>\n",
              "    <tr>\n",
              "      <th>1</th>\n",
              "      <td>ID_AAYiaCeL</td>\n",
              "      <td>Ethiopia</td>\n",
              "      <td>2005</td>\n",
              "      <td>R</td>\n",
              "      <td>0.0</td>\n",
              "      <td>0.000000</td>\n",
              "      <td>0.000110</td>\n",
              "      <td>0.000000</td>\n",
              "      <td>0.000018</td>\n",
              "      <td>0.999872</td>\n",
              "      <td>113.806716</td>\n",
              "      <td>64.136053</td>\n",
              "      <td>0.601427</td>\n",
              "      <td>0.000000</td>\n",
              "      <td>0.005427</td>\n",
              "      <td>0.000000</td>\n",
              "      <td>200.986978</td>\n",
              "      <td>337.135243</td>\n",
              "      <td>0.004898</td>\n",
              "    </tr>\n",
              "    <tr>\n",
              "      <th>2</th>\n",
              "      <td>ID_AAdurmKj</td>\n",
              "      <td>Mozambique</td>\n",
              "      <td>2009</td>\n",
              "      <td>R</td>\n",
              "      <td>0.0</td>\n",
              "      <td>0.000000</td>\n",
              "      <td>0.000000</td>\n",
              "      <td>0.000000</td>\n",
              "      <td>0.000000</td>\n",
              "      <td>1.000000</td>\n",
              "      <td>0.000000</td>\n",
              "      <td>4.400096</td>\n",
              "      <td>0.131900</td>\n",
              "      <td>0.000000</td>\n",
              "      <td>0.003078</td>\n",
              "      <td>0.000000</td>\n",
              "      <td>642.594208</td>\n",
              "      <td>169.913773</td>\n",
              "      <td>0.097320</td>\n",
              "    </tr>\n",
              "    <tr>\n",
              "      <th>3</th>\n",
              "      <td>ID_AAgNHles</td>\n",
              "      <td>Malawi</td>\n",
              "      <td>2015</td>\n",
              "      <td>R</td>\n",
              "      <td>0.0</td>\n",
              "      <td>0.000141</td>\n",
              "      <td>0.000181</td>\n",
              "      <td>0.000254</td>\n",
              "      <td>0.000228</td>\n",
              "      <td>0.999195</td>\n",
              "      <td>5.213320</td>\n",
              "      <td>25.379371</td>\n",
              "      <td>2.017136</td>\n",
              "      <td>11.293841</td>\n",
              "      <td>0.131035</td>\n",
              "      <td>0.000000</td>\n",
              "      <td>365.349451</td>\n",
              "      <td>613.591610</td>\n",
              "      <td>0.304107</td>\n",
              "    </tr>\n",
              "    <tr>\n",
              "      <th>4</th>\n",
              "      <td>ID_AAishfND</td>\n",
              "      <td>Guinea</td>\n",
              "      <td>2012</td>\n",
              "      <td>U</td>\n",
              "      <td>0.0</td>\n",
              "      <td>0.011649</td>\n",
              "      <td>0.017560</td>\n",
              "      <td>0.017383</td>\n",
              "      <td>0.099875</td>\n",
              "      <td>0.853533</td>\n",
              "      <td>31.734661</td>\n",
              "      <td>5.081620</td>\n",
              "      <td>22.815984</td>\n",
              "      <td>0.005047</td>\n",
              "      <td>0.130475</td>\n",
              "      <td>1.461894</td>\n",
              "      <td>222.867189</td>\n",
              "      <td>192.926363</td>\n",
              "      <td>0.605328</td>\n",
              "    </tr>\n",
              "  </tbody>\n",
              "</table>\n",
              "</div>"
            ],
            "text/plain": [
              "            ID     country  year  ... dist_to_capital  dist_to_shoreline    Target\n",
              "0  ID_AAIethGy    Ethiopia  2016  ...      278.788451         769.338378  0.132783\n",
              "1  ID_AAYiaCeL    Ethiopia  2005  ...      200.986978         337.135243  0.004898\n",
              "2  ID_AAdurmKj  Mozambique  2009  ...      642.594208         169.913773  0.097320\n",
              "3  ID_AAgNHles      Malawi  2015  ...      365.349451         613.591610  0.304107\n",
              "4  ID_AAishfND      Guinea  2012  ...      222.867189         192.926363  0.605328\n",
              "\n",
              "[5 rows x 19 columns]"
            ]
          },
          "metadata": {
            "tags": []
          },
          "execution_count": 9
        }
      ]
    },
    {
      "cell_type": "code",
      "metadata": {
        "colab": {
          "base_uri": "https://localhost:8080/",
          "height": 265
        },
        "id": "nhAlqNdITro2",
        "outputId": "3b1c41c4-b1eb-4ef6-f582-0d8d3ebb979c"
      },
      "source": [
        "target = train.Target\r\n",
        "train.Target.plot(kind = 'hist');"
      ],
      "execution_count": 10,
      "outputs": [
        {
          "output_type": "display_data",
          "data": {
            "image/png": "[encoded data removed]",
            "text/plain": [
              "<Figure size 432x288 with 1 Axes>"
            ]
          },
          "metadata": {
            "tags": [],
            "needs_background": "light"
          }
        }
      ]
    },
    {
      "cell_type": "code",
      "metadata": {
        "colab": {
          "base_uri": "https://localhost:8080/",
          "height": 309
        },
        "id": "baXK1labTrlj",
        "outputId": "11c1da09-544c-4432-aeb7-43e93d8173d3"
      },
      "source": [
        "test.head()"
      ],
      "execution_count": 11,
      "outputs": [
        {
          "output_type": "execute_result",
          "data": {
            "text/html": [
              "<div>\n",
              "<style scoped>\n",
              "    .dataframe tbody tr th:only-of-type {\n",
              "        vertical-align: middle;\n",
              "    }\n",
              "\n",
              "    .dataframe tbody tr th {\n",
              "        vertical-align: top;\n",
              "    }\n",
              "\n",
              "    .dataframe thead th {\n",
              "        text-align: right;\n",
              "    }\n",
              "</style>\n",
              "<table border=\"1\" class=\"dataframe\">\n",
              "  <thead>\n",
              "    <tr style=\"text-align: right;\">\n",
              "      <th></th>\n",
              "      <th>ID</th>\n",
              "      <th>country</th>\n",
              "      <th>year</th>\n",
              "      <th>urban_or_rural</th>\n",
              "      <th>ghsl_water_surface</th>\n",
              "      <th>ghsl_built_pre_1975</th>\n",
              "      <th>ghsl_built_1975_to_1990</th>\n",
              "      <th>ghsl_built_1990_to_2000</th>\n",
              "      <th>ghsl_built_2000_to_2014</th>\n",
              "      <th>ghsl_not_built_up</th>\n",
              "      <th>ghsl_pop_density</th>\n",
              "      <th>landcover_crops_fraction</th>\n",
              "      <th>landcover_urban_fraction</th>\n",
              "      <th>landcover_water_permanent_10km_fraction</th>\n",
              "      <th>landcover_water_seasonal_10km_fraction</th>\n",
              "      <th>nighttime_lights</th>\n",
              "      <th>dist_to_capital</th>\n",
              "      <th>dist_to_shoreline</th>\n",
              "    </tr>\n",
              "  </thead>\n",
              "  <tbody>\n",
              "    <tr>\n",
              "      <th>0</th>\n",
              "      <td>ID_AAcismbB</td>\n",
              "      <td>Democratic Republic of Congo</td>\n",
              "      <td>2007</td>\n",
              "      <td>R</td>\n",
              "      <td>0.000000</td>\n",
              "      <td>0.000000</td>\n",
              "      <td>0.000000</td>\n",
              "      <td>0.000523</td>\n",
              "      <td>0.000131</td>\n",
              "      <td>0.999347</td>\n",
              "      <td>0.660758</td>\n",
              "      <td>0.990942</td>\n",
              "      <td>0.132264</td>\n",
              "      <td>0.069055</td>\n",
              "      <td>0.032627</td>\n",
              "      <td>0.000000</td>\n",
              "      <td>1249.294720</td>\n",
              "      <td>1364.592100</td>\n",
              "    </tr>\n",
              "    <tr>\n",
              "      <th>1</th>\n",
              "      <td>ID_AAeBMsji</td>\n",
              "      <td>Democratic Republic of Congo</td>\n",
              "      <td>2007</td>\n",
              "      <td>U</td>\n",
              "      <td>0.000000</td>\n",
              "      <td>0.004239</td>\n",
              "      <td>0.000238</td>\n",
              "      <td>0.001227</td>\n",
              "      <td>0.002860</td>\n",
              "      <td>0.991437</td>\n",
              "      <td>6.441547</td>\n",
              "      <td>5.461365</td>\n",
              "      <td>0.452400</td>\n",
              "      <td>0.000000</td>\n",
              "      <td>0.000000</td>\n",
              "      <td>0.000000</td>\n",
              "      <td>821.019579</td>\n",
              "      <td>1046.028681</td>\n",
              "    </tr>\n",
              "    <tr>\n",
              "      <th>2</th>\n",
              "      <td>ID_AAjFMjzy</td>\n",
              "      <td>Uganda</td>\n",
              "      <td>2011</td>\n",
              "      <td>U</td>\n",
              "      <td>0.007359</td>\n",
              "      <td>0.525682</td>\n",
              "      <td>0.132795</td>\n",
              "      <td>0.095416</td>\n",
              "      <td>0.042375</td>\n",
              "      <td>0.196373</td>\n",
              "      <td>587.516458</td>\n",
              "      <td>2.881811</td>\n",
              "      <td>87.387991</td>\n",
              "      <td>3.248483</td>\n",
              "      <td>3.950374</td>\n",
              "      <td>60.070041</td>\n",
              "      <td>3.620455</td>\n",
              "      <td>906.057334</td>\n",
              "    </tr>\n",
              "    <tr>\n",
              "      <th>3</th>\n",
              "      <td>ID_AAmMOEEC</td>\n",
              "      <td>Burkina Faso</td>\n",
              "      <td>2010</td>\n",
              "      <td>U</td>\n",
              "      <td>0.000000</td>\n",
              "      <td>0.000089</td>\n",
              "      <td>0.000036</td>\n",
              "      <td>0.001519</td>\n",
              "      <td>0.001358</td>\n",
              "      <td>0.996997</td>\n",
              "      <td>35.141762</td>\n",
              "      <td>33.878927</td>\n",
              "      <td>4.166437</td>\n",
              "      <td>0.000000</td>\n",
              "      <td>0.130727</td>\n",
              "      <td>1.333999</td>\n",
              "      <td>109.493969</td>\n",
              "      <td>775.139189</td>\n",
              "    </tr>\n",
              "    <tr>\n",
              "      <th>4</th>\n",
              "      <td>ID_ABguzDxp</td>\n",
              "      <td>Zambia</td>\n",
              "      <td>2007</td>\n",
              "      <td>R</td>\n",
              "      <td>0.000000</td>\n",
              "      <td>0.000138</td>\n",
              "      <td>0.000623</td>\n",
              "      <td>0.000615</td>\n",
              "      <td>0.002961</td>\n",
              "      <td>0.995663</td>\n",
              "      <td>3.442449</td>\n",
              "      <td>33.491994</td>\n",
              "      <td>3.437129</td>\n",
              "      <td>0.133563</td>\n",
              "      <td>0.128997</td>\n",
              "      <td>0.502203</td>\n",
              "      <td>133.643319</td>\n",
              "      <td>835.591501</td>\n",
              "    </tr>\n",
              "  </tbody>\n",
              "</table>\n",
              "</div>"
            ],
            "text/plain": [
              "            ID  ... dist_to_shoreline\n",
              "0  ID_AAcismbB  ...       1364.592100\n",
              "1  ID_AAeBMsji  ...       1046.028681\n",
              "2  ID_AAjFMjzy  ...        906.057334\n",
              "3  ID_AAmMOEEC  ...        775.139189\n",
              "4  ID_ABguzDxp  ...        835.591501\n",
              "\n",
              "[5 rows x 18 columns]"
            ]
          },
          "metadata": {
            "tags": []
          },
          "execution_count": 11
        }
      ]
    },
    {
      "cell_type": "code",
      "metadata": {
        "colab": {
          "base_uri": "https://localhost:8080/"
        },
        "id": "hWMU-_OKTriT",
        "outputId": "d75ab823-5a60-43ed-afab-b6a407a778bd"
      },
      "source": [
        "set(train.country).difference(set(test.country))"
      ],
      "execution_count": 12,
      "outputs": [
        {
          "output_type": "execute_result",
          "data": {
            "text/plain": [
              "{'Cameroon',\n",
              " 'Central African Republic',\n",
              " \"Cote d'Ivoire\",\n",
              " 'Ethiopia',\n",
              " 'Ghana',\n",
              " 'Guinea',\n",
              " 'Kenya',\n",
              " 'Lesotho',\n",
              " 'Malawi',\n",
              " 'Mali',\n",
              " 'Mozambique',\n",
              " 'Nigeria',\n",
              " 'Rwanda',\n",
              " 'Senegal',\n",
              " 'Sierra Leone',\n",
              " 'Swaziland',\n",
              " 'Tanzania',\n",
              " 'Togo'}"
            ]
          },
          "metadata": {
            "tags": []
          },
          "execution_count": 12
        }
      ]
    },
    {
      "cell_type": "code",
      "metadata": {
        "colab": {
          "base_uri": "https://localhost:8080/"
        },
        "id": "pqJL31-0Tre9",
        "outputId": "2ba915bc-c928-44fd-9178-e62948df8a6c"
      },
      "source": [
        "set(train.country).intersection(set(test.country))"
      ],
      "execution_count": 13,
      "outputs": [
        {
          "output_type": "execute_result",
          "data": {
            "text/plain": [
              "set()"
            ]
          },
          "metadata": {
            "tags": []
          },
          "execution_count": 13
        }
      ]
    },
    {
      "cell_type": "code",
      "metadata": {
        "colab": {
          "base_uri": "https://localhost:8080/"
        },
        "id": "BaL_RuBiV6qu",
        "outputId": "53f0dc6d-1e44-47fe-beb2-93a515e59a5b"
      },
      "source": [
        "train.country.nunique(), test.country.nunique()"
      ],
      "execution_count": 14,
      "outputs": [
        {
          "output_type": "execute_result",
          "data": {
            "text/plain": [
              "(18, 7)"
            ]
          },
          "metadata": {
            "tags": []
          },
          "execution_count": 14
        }
      ]
    },
    {
      "cell_type": "code",
      "metadata": {
        "id": "l8IbA7KCUCcu"
      },
      "source": [
        "le = LabelEncoder()\r\n",
        "train.urban_or_rural = le.fit_transform(train.urban_or_rural)\r\n",
        "test.urban_or_rural = le.transform(test.urban_or_rural)"
      ],
      "execution_count": 15,
      "outputs": []
    },
    {
      "cell_type": "code",
      "metadata": {
        "colab": {
          "base_uri": "https://localhost:8080/",
          "height": 224
        },
        "id": "4Bu-QKz4SOxu",
        "outputId": "cfd678df-ddfd-4796-cd44-753c9b017d8a"
      },
      "source": [
        "train.head()"
      ],
      "execution_count": 16,
      "outputs": [
        {
          "output_type": "execute_result",
          "data": {
            "text/html": [
              "<div>\n",
              "<style scoped>\n",
              "    .dataframe tbody tr th:only-of-type {\n",
              "        vertical-align: middle;\n",
              "    }\n",
              "\n",
              "    .dataframe tbody tr th {\n",
              "        vertical-align: top;\n",
              "    }\n",
              "\n",
              "    .dataframe thead th {\n",
              "        text-align: right;\n",
              "    }\n",
              "</style>\n",
              "<table border=\"1\" class=\"dataframe\">\n",
              "  <thead>\n",
              "    <tr style=\"text-align: right;\">\n",
              "      <th></th>\n",
              "      <th>ID</th>\n",
              "      <th>country</th>\n",
              "      <th>year</th>\n",
              "      <th>urban_or_rural</th>\n",
              "      <th>ghsl_water_surface</th>\n",
              "      <th>ghsl_built_pre_1975</th>\n",
              "      <th>ghsl_built_1975_to_1990</th>\n",
              "      <th>ghsl_built_1990_to_2000</th>\n",
              "      <th>ghsl_built_2000_to_2014</th>\n",
              "      <th>ghsl_not_built_up</th>\n",
              "      <th>ghsl_pop_density</th>\n",
              "      <th>landcover_crops_fraction</th>\n",
              "      <th>landcover_urban_fraction</th>\n",
              "      <th>landcover_water_permanent_10km_fraction</th>\n",
              "      <th>landcover_water_seasonal_10km_fraction</th>\n",
              "      <th>nighttime_lights</th>\n",
              "      <th>dist_to_capital</th>\n",
              "      <th>dist_to_shoreline</th>\n",
              "      <th>Target</th>\n",
              "    </tr>\n",
              "  </thead>\n",
              "  <tbody>\n",
              "    <tr>\n",
              "      <th>0</th>\n",
              "      <td>ID_AAIethGy</td>\n",
              "      <td>Ethiopia</td>\n",
              "      <td>2016</td>\n",
              "      <td>0</td>\n",
              "      <td>0.0</td>\n",
              "      <td>0.000000</td>\n",
              "      <td>0.000000</td>\n",
              "      <td>0.000055</td>\n",
              "      <td>0.000536</td>\n",
              "      <td>0.999408</td>\n",
              "      <td>12.146134</td>\n",
              "      <td>25.489659</td>\n",
              "      <td>0.879484</td>\n",
              "      <td>0.000000</td>\n",
              "      <td>0.000000</td>\n",
              "      <td>0.000000</td>\n",
              "      <td>278.788451</td>\n",
              "      <td>769.338378</td>\n",
              "      <td>0.132783</td>\n",
              "    </tr>\n",
              "    <tr>\n",
              "      <th>1</th>\n",
              "      <td>ID_AAYiaCeL</td>\n",
              "      <td>Ethiopia</td>\n",
              "      <td>2005</td>\n",
              "      <td>0</td>\n",
              "      <td>0.0</td>\n",
              "      <td>0.000000</td>\n",
              "      <td>0.000110</td>\n",
              "      <td>0.000000</td>\n",
              "      <td>0.000018</td>\n",
              "      <td>0.999872</td>\n",
              "      <td>113.806716</td>\n",
              "      <td>64.136053</td>\n",
              "      <td>0.601427</td>\n",
              "      <td>0.000000</td>\n",
              "      <td>0.005427</td>\n",
              "      <td>0.000000</td>\n",
              "      <td>200.986978</td>\n",
              "      <td>337.135243</td>\n",
              "      <td>0.004898</td>\n",
              "    </tr>\n",
              "    <tr>\n",
              "      <th>2</th>\n",
              "      <td>ID_AAdurmKj</td>\n",
              "      <td>Mozambique</td>\n",
              "      <td>2009</td>\n",
              "      <td>0</td>\n",
              "      <td>0.0</td>\n",
              "      <td>0.000000</td>\n",
              "      <td>0.000000</td>\n",
              "      <td>0.000000</td>\n",
              "      <td>0.000000</td>\n",
              "      <td>1.000000</td>\n",
              "      <td>0.000000</td>\n",
              "      <td>4.400096</td>\n",
              "      <td>0.131900</td>\n",
              "      <td>0.000000</td>\n",
              "      <td>0.003078</td>\n",
              "      <td>0.000000</td>\n",
              "      <td>642.594208</td>\n",
              "      <td>169.913773</td>\n",
              "      <td>0.097320</td>\n",
              "    </tr>\n",
              "    <tr>\n",
              "      <th>3</th>\n",
              "      <td>ID_AAgNHles</td>\n",
              "      <td>Malawi</td>\n",
              "      <td>2015</td>\n",
              "      <td>0</td>\n",
              "      <td>0.0</td>\n",
              "      <td>0.000141</td>\n",
              "      <td>0.000181</td>\n",
              "      <td>0.000254</td>\n",
              "      <td>0.000228</td>\n",
              "      <td>0.999195</td>\n",
              "      <td>5.213320</td>\n",
              "      <td>25.379371</td>\n",
              "      <td>2.017136</td>\n",
              "      <td>11.293841</td>\n",
              "      <td>0.131035</td>\n",
              "      <td>0.000000</td>\n",
              "      <td>365.349451</td>\n",
              "      <td>613.591610</td>\n",
              "      <td>0.304107</td>\n",
              "    </tr>\n",
              "    <tr>\n",
              "      <th>4</th>\n",
              "      <td>ID_AAishfND</td>\n",
              "      <td>Guinea</td>\n",
              "      <td>2012</td>\n",
              "      <td>1</td>\n",
              "      <td>0.0</td>\n",
              "      <td>0.011649</td>\n",
              "      <td>0.017560</td>\n",
              "      <td>0.017383</td>\n",
              "      <td>0.099875</td>\n",
              "      <td>0.853533</td>\n",
              "      <td>31.734661</td>\n",
              "      <td>5.081620</td>\n",
              "      <td>22.815984</td>\n",
              "      <td>0.005047</td>\n",
              "      <td>0.130475</td>\n",
              "      <td>1.461894</td>\n",
              "      <td>222.867189</td>\n",
              "      <td>192.926363</td>\n",
              "      <td>0.605328</td>\n",
              "    </tr>\n",
              "  </tbody>\n",
              "</table>\n",
              "</div>"
            ],
            "text/plain": [
              "            ID     country  year  ...  dist_to_capital  dist_to_shoreline    Target\n",
              "0  ID_AAIethGy    Ethiopia  2016  ...       278.788451         769.338378  0.132783\n",
              "1  ID_AAYiaCeL    Ethiopia  2005  ...       200.986978         337.135243  0.004898\n",
              "2  ID_AAdurmKj  Mozambique  2009  ...       642.594208         169.913773  0.097320\n",
              "3  ID_AAgNHles      Malawi  2015  ...       365.349451         613.591610  0.304107\n",
              "4  ID_AAishfND      Guinea  2012  ...       222.867189         192.926363  0.605328\n",
              "\n",
              "[5 rows x 19 columns]"
            ]
          },
          "metadata": {
            "tags": []
          },
          "execution_count": 16
        }
      ]
    },
    {
      "cell_type": "code",
      "metadata": {
        "colab": {
          "base_uri": "https://localhost:8080/"
        },
        "id": "TZoWneAJV6my",
        "outputId": "9c614bf3-5cbb-4053-bb6c-94322df2e578"
      },
      "source": [
        "%%time\r\n",
        "X = train.copy()\r\n",
        "y = train.Target\r\n",
        "\r\n",
        "main_features = train.columns.difference(['ID', 'Target', 'year', 'country'])\r\n",
        "tess = test[main_features]\r\n",
        "\r\n",
        "feature_importance_df = pd.DataFrame()\r\n",
        "folds = KFold(n_splits = 5, random_state=0)\r\n",
        "\r\n",
        "predictions = []\r\n",
        "rmses = []\r\n",
        "for i,( train_index, test_index) in enumerate(folds.split(X, y)):\r\n",
        "  X_train, X_test, y_train, y_test = X.iloc[train_index], X.iloc[test_index], y[train_index], y[test_index]\r\n",
        "  X_train, X_test = X_train[main_features], X_test[main_features]\r\n",
        "  \r\n",
        "  model = LGBMRegressor(n_estimators=4000, eval_metric = 'rmse', learning_rate=0.1)\r\n",
        "  model.fit(X_train, y_train, eval_set=[(X_test, y_test)], early_stopping_rounds=150, verbose = False)\r\n",
        "\r\n",
        "  preds = model.predict(tess)\r\n",
        "  y_pred = model.predict(X_test) \r\n",
        "\r\n",
        "  predictions.append(preds)\r\n",
        "  rmse = mean_squared_error(y_test, y_pred)**0.5\r\n",
        "\r\n",
        "  fold_importance_df = pd.DataFrame({'feature': X_train.columns.tolist(), 'importance': model.feature_importances_})\r\n",
        "  feature_importance_df = pd.concat([feature_importance_df, fold_importance_df], axis=0)\r\n",
        "  print(i, rmse)\r\n",
        "  rmses.append(rmse)\r\n",
        "\r\n",
        "print(f'Mean RMSE: {np.mean(rmses)}')\r\n",
        "# Averaging predictions\r\n",
        "mpreds = np.mean(predictions, 0)\r\n",
        "\r\n",
        "# Submission file creation\r\n",
        "ss = sample.copy()\r\n",
        "ss['Target'] = mpreds\r\n",
        "ss.to_csv('Baseline.csv', index=False)"
      ],
      "execution_count": 17,
      "outputs": [
        {
          "output_type": "stream",
          "text": [
            "0 0.10316716520352186\n",
            "1 0.10147958775624381\n",
            "2 0.10189364107191645\n",
            "3 0.0986934777463037\n",
            "4 0.10116267191254302\n",
            "Mean RMSE: 0.10127930873810578\n",
            "CPU times: user 13.9 s, sys: 232 ms, total: 14.2 s\n",
            "Wall time: 7.37 s\n"
          ],
          "name": "stdout"
        }
      ]
    },
    {
      "cell_type": "code",
      "metadata": {
        "colab": {
          "base_uri": "https://localhost:8080/",
          "height": 879
        },
        "id": "gpCnVACEWQfk",
        "outputId": "9f2a1a96-f87b-4bef-ea4e-8692e2260f72"
      },
      "source": [
        "# Feature Importance plot\r\n",
        "sns.set_style('whitegrid')\r\n",
        "fi = feature_importance_df.groupby('feature')['importance'].mean()\r\n",
        "fi.sort_values(ascending=False)[::-1].plot(kind = 'barh', figsize=(12, 15), title = 'Feature Importance')\r\n",
        "plt.show()"
      ],
      "execution_count": 18,
      "outputs": [
        {
          "output_type": "display_data",
          "data": {
            "image/png": "[encoded data removed]",
            "text/plain": [
              "<Figure size 864x1080 with 1 Axes>"
            ]
          },
          "metadata": {
            "tags": []
          }
        }
      ]
    },
    {
      "cell_type": "code",
      "metadata": {
        "id": "fLrG47yqZSKc"
      },
      "source": [
        ""
      ],
      "execution_count": null,
      "outputs": []
    },
    {
      "cell_type": "code",
      "metadata": {
        "id": "MRz8dFfCZSHO"
      },
      "source": [
        ""
      ],
      "execution_count": null,
      "outputs": []
    }
  ]
}